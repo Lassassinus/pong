{
  "nbformat": 4,
  "nbformat_minor": 0,
  "metadata": {
    "colab": {
      "provenance": [],
      "authorship_tag": "ABX9TyOHsfL6YgsbJhPW421hGVdI",
      "include_colab_link": true
    },
    "kernelspec": {
      "name": "python3",
      "display_name": "Python 3"
    },
    "language_info": {
      "name": "python"
    }
  },
  "cells": [
    {
      "cell_type": "markdown",
      "metadata": {
        "id": "view-in-github",
        "colab_type": "text"
      },
      "source": [
        "<a href=\"https://colab.research.google.com/github/Lassassinus/pong/blob/main/pong.ipynb\" target=\"_parent\"><img src=\"https://colab.research.google.com/assets/colab-badge.svg\" alt=\"Open In Colab\"/></a>"
      ]
    },
    {
      "cell_type": "code",
      "execution_count": 4,
      "metadata": {
        "colab": {
          "base_uri": "https://localhost:8080/"
        },
        "id": "ATNmXvJ54Kth",
        "outputId": "73237d7d-a592-4830-d602-76109c322210"
      },
      "outputs": [
        {
          "output_type": "stream",
          "name": "stdout",
          "text": [
            "#################################################################################\n",
            "#...............................................................................#\n",
            "#...............................................................................#\n",
            "#...............................................................................#\n",
            "#.............................................................................█.#\n",
            "#.█...........................................................................█.#\n",
            "#.█...........................................................................█.#\n",
            "#.█.............................................................................#\n",
            "#...............................................................................#\n",
            "#...............................................................................#\n",
            "#...............................................................................#\n",
            "#...............................................................................#\n",
            "#...............................................................................#\n",
            "#...............................................................................#\n",
            "#...............................................................................#\n",
            "#...............................................................................#\n",
            "#...............................................................................#\n",
            "#...............................................................................#\n",
            "#...............................................................................#\n",
            "#...............................................................................#\n",
            "#...............................................................................#\n",
            "#...............................................................................#\n",
            "#...............................................................................#\n",
            "#...............................................................................#\n",
            "#...............................................................................#\n",
            "#################################################################################\n"
          ]
        }
      ],
      "source": [
        "wall = '#'\n",
        "player = '█'\n",
        "ball = '█'\n",
        "space = '.'\n",
        "\n",
        "width = 80\n",
        "height = 25\n",
        "\n",
        "def draw_player (raw:list, y_coord:int, player_coords:int, player_name:int) -> list:\n",
        "  if (player_name == 1):\n",
        "    player_side = 2\n",
        "  elif (player_name == 2):\n",
        "    player_side = -3\n",
        "  else:\n",
        "    print(\"I'm broken\")\n",
        "    exit()\n",
        "\n",
        "  if (y_coord == player_coords\n",
        "    or y_coord-1 == player_coords\n",
        "    or y_coord+1 == player_coords):\n",
        "    raw[player_side] = player\n",
        "\n",
        "  return raw\n",
        "\n",
        "def print_game_field(player1: int, player2: int, ball_x: int, ball_y: int):\n",
        "\n",
        "\n",
        "  for i in range(height+1):\n",
        "    raw = [space for i in range(width+1)]\n",
        "    if i == 0 or i==25:\n",
        "      # Верхняя и нижняя стенки\n",
        "      raw = [wall for i in range(width+1)]\n",
        "      print(''.join(raw))\n",
        "\n",
        "    else:\n",
        "      # центральная часть поля\n",
        "      raw[0] = wall\n",
        "      raw[-1] = wall\n",
        "      raw = draw_player(raw, i, player1, 1)\n",
        "      raw = draw_player(raw, i, player2, 2)\n",
        "\n",
        "\n",
        "      print(''.join(raw))\n",
        "\n",
        "print_game_field(6, 5, 0, 0)"
      ]
    },
    {
      "cell_type": "code",
      "source": [
        "for i in range(26):\n",
        "  if i == 0 or i==25:\n",
        "    print(wall*80)\n",
        "  else:\n",
        "    print(wall + height-2*space + wall)\n"
      ],
      "metadata": {
        "colab": {
          "base_uri": "https://localhost:8080/",
          "height": 231
        },
        "id": "EXhSjQUE5dHC",
        "outputId": "0cef2ae9-66be-4ca3-fe60-9d4e937a77a0"
      },
      "execution_count": 3,
      "outputs": [
        {
          "output_type": "error",
          "ename": "NameError",
          "evalue": "name 'wall' is not defined",
          "traceback": [
            "\u001b[0;31m---------------------------------------------------------------------------\u001b[0m",
            "\u001b[0;31mNameError\u001b[0m                                 Traceback (most recent call last)",
            "\u001b[0;32m<ipython-input-3-4deea70abd2a>\u001b[0m in \u001b[0;36m<cell line: 0>\u001b[0;34m()\u001b[0m\n\u001b[1;32m      1\u001b[0m \u001b[0;32mfor\u001b[0m \u001b[0mi\u001b[0m \u001b[0;32min\u001b[0m \u001b[0mrange\u001b[0m\u001b[0;34m(\u001b[0m\u001b[0;36m26\u001b[0m\u001b[0;34m)\u001b[0m\u001b[0;34m:\u001b[0m\u001b[0;34m\u001b[0m\u001b[0;34m\u001b[0m\u001b[0m\n\u001b[1;32m      2\u001b[0m   \u001b[0;32mif\u001b[0m \u001b[0mi\u001b[0m \u001b[0;34m==\u001b[0m \u001b[0;36m0\u001b[0m \u001b[0;32mor\u001b[0m \u001b[0mi\u001b[0m\u001b[0;34m==\u001b[0m\u001b[0;36m25\u001b[0m\u001b[0;34m:\u001b[0m\u001b[0;34m\u001b[0m\u001b[0;34m\u001b[0m\u001b[0m\n\u001b[0;32m----> 3\u001b[0;31m     \u001b[0mprint\u001b[0m\u001b[0;34m(\u001b[0m\u001b[0mwall\u001b[0m\u001b[0;34m*\u001b[0m\u001b[0;36m80\u001b[0m\u001b[0;34m)\u001b[0m\u001b[0;34m\u001b[0m\u001b[0;34m\u001b[0m\u001b[0m\n\u001b[0m\u001b[1;32m      4\u001b[0m   \u001b[0;32melse\u001b[0m\u001b[0;34m:\u001b[0m\u001b[0;34m\u001b[0m\u001b[0;34m\u001b[0m\u001b[0m\n\u001b[1;32m      5\u001b[0m     \u001b[0mprint\u001b[0m\u001b[0;34m(\u001b[0m\u001b[0mwall\u001b[0m \u001b[0;34m+\u001b[0m \u001b[0mheight\u001b[0m\u001b[0;34m-\u001b[0m\u001b[0;36m2\u001b[0m\u001b[0;34m*\u001b[0m\u001b[0mspace\u001b[0m \u001b[0;34m+\u001b[0m \u001b[0mwall\u001b[0m\u001b[0;34m)\u001b[0m\u001b[0;34m\u001b[0m\u001b[0;34m\u001b[0m\u001b[0m\n",
            "\u001b[0;31mNameError\u001b[0m: name 'wall' is not defined"
          ]
        }
      ]
    }
  ]
}